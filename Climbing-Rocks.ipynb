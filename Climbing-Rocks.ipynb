{
 "cells": [
  {
   "cell_type": "markdown",
   "metadata": {
    "slideshow": {
     "slide_type": "slide"
    }
   },
   "source": [
    "# Climbing Rocks:\n",
    "## Attempting to combine data analytics and climbing\n",
    "***\n",
    "### by Sam Silber\n",
    "\n"
   ]
  },
  {
   "cell_type": "markdown",
   "metadata": {
    "slideshow": {
     "slide_type": "slide"
    }
   },
   "source": [
    "**What traits, if any, are most important in determining the highest level a rock climber is able to perform at?**\n",
    "\n",
    "**Are physical traits (height, weight, etc.) limiting factors to this?**\n",
    "\n",
    "**Conversely, are simple measures of experience most important?**\n",
    "\n",
    "I will be answering these questions and more using data from the climbing logbook website 8a.nu.\n",
    "\n",
    "All credit to David Cohen for scrapping this data and posting it to Kaggle:\n",
    "https://www.kaggle.com/dcohen21/8anu-climbing-logbook"
   ]
  },
  {
   "cell_type": "code",
   "execution_count": 100,
   "metadata": {
    "slideshow": {
     "slide_type": "skip"
    }
   },
   "outputs": [
    {
     "name": "stdout",
     "output_type": "stream",
     "text": [
      "\n"
     ]
    }
   ],
   "source": [
    "import pandas as pd\n",
    "import numpy as np\n",
    "import matplotlib.pyplot as plt\n",
    "import seaborn as sns\n",
    "import sqlite3\n",
    "%matplotlib inline"
   ]
  },
  {
   "cell_type": "markdown",
   "metadata": {
    "slideshow": {
     "slide_type": "skip"
    }
   },
   "source": [
    "# Read-in and Merges\n",
    "\n",
    "We want to merge information from the user, method, and grade tables onto the ascent table (which will act as our \"main\" dataset). \n",
    "\n",
    "If you want to follow along you'll have to download the sqlite database from the link above-- it was apparently too big to be hosted on GitHub. If anyone knows a better solution to this please let me know!!"
   ]
  },
  {
   "cell_type": "code",
   "execution_count": 101,
   "metadata": {
    "collapsed": true,
    "slideshow": {
     "slide_type": "skip"
    }
   },
   "outputs": [],
   "source": [
    "# Connect with sqlite database\n",
    "con = sqlite3.connect(\"database.sqlite\")"
   ]
  },
  {
   "cell_type": "markdown",
   "metadata": {
    "slideshow": {
     "slide_type": "skip"
    }
   },
   "source": [
    "### Method Table\n",
    "\n",
    "This table contains information on the different classifications of how a route was climbed. In the ascents dataset, each climb has an ID as to the method, so this table is just useful for being able to attach a climbing method to an ID. 8a.nu has 4 climbing method classifications (in order of most desireable):\n",
    "    \n",
    "   A. Onsight: Complete a route on your first try without \"beta\" ((climbing terminology for knowing something about a route. This could be anything from watching someone else climb it to reading up about the route's topography). This is considered the cleanest, highest level, and most desireable method of completing a route. \n",
    "    \n",
    "    \n",
    "   B. Flash: Complete a route on your first try, but with \"beta\". The distinction between flashing and onsighting a route may seem arbitrary to non-climbers, but is an import distinction in the climbing community. \n",
    "    \n",
    "    \n",
    "   C.  Redpoint: Complete a route having previously attempted it.\n",
    "    \n",
    "    \n",
    "   D. Toprope: All 3 above methods imply that the climb has been \"lead\", or the climber is bringing rope up with them as they climb and clipping into pieces of protection that they place. Toproping is when the rope is already set up above the climber, and is considered a less \"pure\" form of climbing as it makes the climb physically and mentally easier (e.g., falling leaves one suspended in the air, whereas in lead climbing one would fall past they last piece of protection that placed).\n",
    "    \n",
    " "
   ]
  },
  {
   "cell_type": "code",
   "execution_count": 102,
   "metadata": {
    "slideshow": {
     "slide_type": "skip"
    }
   },
   "outputs": [
    {
     "data": {
      "text/html": [
       "<div>\n",
       "<style>\n",
       "    .dataframe thead tr:only-child th {\n",
       "        text-align: right;\n",
       "    }\n",
       "\n",
       "    .dataframe thead th {\n",
       "        text-align: left;\n",
       "    }\n",
       "\n",
       "    .dataframe tbody tr th {\n",
       "        vertical-align: top;\n",
       "    }\n",
       "</style>\n",
       "<table border=\"1\" class=\"dataframe\">\n",
       "  <thead>\n",
       "    <tr style=\"text-align: right;\">\n",
       "      <th></th>\n",
       "      <th>method_id</th>\n",
       "      <th>method_name</th>\n",
       "    </tr>\n",
       "  </thead>\n",
       "  <tbody>\n",
       "    <tr>\n",
       "      <th>0</th>\n",
       "      <td>1</td>\n",
       "      <td>Redpoint</td>\n",
       "    </tr>\n",
       "    <tr>\n",
       "      <th>1</th>\n",
       "      <td>2</td>\n",
       "      <td>Flash</td>\n",
       "    </tr>\n",
       "    <tr>\n",
       "      <th>2</th>\n",
       "      <td>3</td>\n",
       "      <td>Onsight</td>\n",
       "    </tr>\n",
       "    <tr>\n",
       "      <th>3</th>\n",
       "      <td>4</td>\n",
       "      <td>Toprope</td>\n",
       "    </tr>\n",
       "    <tr>\n",
       "      <th>4</th>\n",
       "      <td>5</td>\n",
       "      <td>Onsight</td>\n",
       "    </tr>\n",
       "  </tbody>\n",
       "</table>\n",
       "</div>"
      ],
      "text/plain": [
       "   method_id method_name\n",
       "0          1    Redpoint\n",
       "1          2       Flash\n",
       "2          3     Onsight\n",
       "3          4     Toprope\n",
       "4          5     Onsight"
      ]
     },
     "execution_count": 102,
     "metadata": {},
     "output_type": "execute_result"
    }
   ],
   "source": [
    "### Prepare method table for merge with ascents\n",
    "method = pd.read_sql_query(\"SELECT * from Method\", con)\n",
    "\n",
    "# Drop variables irrelevant to our analysis; rename for merge\n",
    "method.drop([\"shorthand\", \"score\"], axis=1, inplace=True)\n",
    "method.rename(columns={\"id\" : \"method_id\", \"name\" : \"method_name\"}, inplace=True)\n",
    "\n",
    "method"
   ]
  },
  {
   "cell_type": "markdown",
   "metadata": {
    "slideshow": {
     "slide_type": "skip"
    }
   },
   "source": [
    "Looks like both 3 and 5 indicate onsight climbs. These will be consolidated later."
   ]
  },
  {
   "cell_type": "markdown",
   "metadata": {
    "slideshow": {
     "slide_type": "slide"
    }
   },
   "source": [
    "### User Table\n",
    "\n",
    "This table has the information associated with each individual climber, including name, sex, height, weight, country of origin, etc. "
   ]
  },
  {
   "cell_type": "markdown",
   "metadata": {
    "slideshow": {
     "slide_type": "skip"
    }
   },
   "source": [
    "There are many users with a variety of inconsistencies because all of the data is manually input. We will have to clean and flag a variety of users to ensure we are using valid and representative climbers."
   ]
  },
  {
   "cell_type": "code",
   "execution_count": 142,
   "metadata": {
    "slideshow": {
     "slide_type": "skip"
    }
   },
   "outputs": [
    {
     "data": {
      "text/html": [
       "<div>\n",
       "<style>\n",
       "    .dataframe thead tr:only-child th {\n",
       "        text-align: right;\n",
       "    }\n",
       "\n",
       "    .dataframe thead th {\n",
       "        text-align: left;\n",
       "    }\n",
       "\n",
       "    .dataframe tbody tr th {\n",
       "        vertical-align: top;\n",
       "    }\n",
       "</style>\n",
       "<table border=\"1\" class=\"dataframe\">\n",
       "  <thead>\n",
       "    <tr style=\"text-align: right;\">\n",
       "      <th></th>\n",
       "      <th>id</th>\n",
       "      <th>first_name</th>\n",
       "      <th>last_name</th>\n",
       "      <th>city</th>\n",
       "      <th>country</th>\n",
       "      <th>sex</th>\n",
       "      <th>height</th>\n",
       "      <th>weight</th>\n",
       "      <th>started</th>\n",
       "      <th>competitions</th>\n",
       "      <th>...</th>\n",
       "      <th>sponsor2</th>\n",
       "      <th>sponsor3</th>\n",
       "      <th>best_area</th>\n",
       "      <th>worst_area</th>\n",
       "      <th>guide_area</th>\n",
       "      <th>interests</th>\n",
       "      <th>birth</th>\n",
       "      <th>presentation</th>\n",
       "      <th>deactivated</th>\n",
       "      <th>anonymous</th>\n",
       "    </tr>\n",
       "  </thead>\n",
       "  <tbody>\n",
       "    <tr>\n",
       "      <th>0</th>\n",
       "      <td>1</td>\n",
       "      <td>Leif</td>\n",
       "      <td>Jägerbrand</td>\n",
       "      <td>Göteborg</td>\n",
       "      <td>SWE</td>\n",
       "      <td>0</td>\n",
       "      <td>177</td>\n",
       "      <td>73</td>\n",
       "      <td>1996</td>\n",
       "      <td></td>\n",
       "      <td>...</td>\n",
       "      <td></td>\n",
       "      <td></td>\n",
       "      <td>Railay beach, Krabi, Thailand</td>\n",
       "      <td>None</td>\n",
       "      <td></td>\n",
       "      <td></td>\n",
       "      <td>1976-03-10</td>\n",
       "      <td></td>\n",
       "      <td>0</td>\n",
       "      <td>0</td>\n",
       "    </tr>\n",
       "    <tr>\n",
       "      <th>1</th>\n",
       "      <td>2</td>\n",
       "      <td>Andreas</td>\n",
       "      <td>Collisch</td>\n",
       "      <td>stockholm</td>\n",
       "      <td>SWE</td>\n",
       "      <td>0</td>\n",
       "      <td>0</td>\n",
       "      <td>0</td>\n",
       "      <td>2000</td>\n",
       "      <td></td>\n",
       "      <td>...</td>\n",
       "      <td></td>\n",
       "      <td></td>\n",
       "      <td></td>\n",
       "      <td></td>\n",
       "      <td></td>\n",
       "      <td></td>\n",
       "      <td>NaT</td>\n",
       "      <td></td>\n",
       "      <td>0</td>\n",
       "      <td>0</td>\n",
       "    </tr>\n",
       "    <tr>\n",
       "      <th>2</th>\n",
       "      <td>3</td>\n",
       "      <td>Magnus</td>\n",
       "      <td>Öberg</td>\n",
       "      <td>Umeå</td>\n",
       "      <td>SWE</td>\n",
       "      <td>0</td>\n",
       "      <td>180</td>\n",
       "      <td>78</td>\n",
       "      <td>1995</td>\n",
       "      <td></td>\n",
       "      <td>...</td>\n",
       "      <td></td>\n",
       "      <td></td>\n",
       "      <td>Hell</td>\n",
       "      <td>Umeå</td>\n",
       "      <td></td>\n",
       "      <td></td>\n",
       "      <td>1973-09-09</td>\n",
       "      <td></td>\n",
       "      <td>0</td>\n",
       "      <td>0</td>\n",
       "    </tr>\n",
       "    <tr>\n",
       "      <th>3</th>\n",
       "      <td>4</td>\n",
       "      <td>Annika</td>\n",
       "      <td>Frodi-Lundgren (f)</td>\n",
       "      <td>Goteborg</td>\n",
       "      <td>SWE</td>\n",
       "      <td>1</td>\n",
       "      <td>165</td>\n",
       "      <td>58</td>\n",
       "      <td>2001</td>\n",
       "      <td></td>\n",
       "      <td>...</td>\n",
       "      <td></td>\n",
       "      <td></td>\n",
       "      <td></td>\n",
       "      <td>None</td>\n",
       "      <td></td>\n",
       "      <td></td>\n",
       "      <td>1984-07-26</td>\n",
       "      <td></td>\n",
       "      <td>0</td>\n",
       "      <td>0</td>\n",
       "    </tr>\n",
       "    <tr>\n",
       "      <th>4</th>\n",
       "      <td>5</td>\n",
       "      <td>Joe</td>\n",
       "      <td>McLoughlin</td>\n",
       "      <td>North Attleboro</td>\n",
       "      <td>USA</td>\n",
       "      <td>0</td>\n",
       "      <td>0</td>\n",
       "      <td>0</td>\n",
       "      <td>1991</td>\n",
       "      <td></td>\n",
       "      <td>...</td>\n",
       "      <td></td>\n",
       "      <td></td>\n",
       "      <td></td>\n",
       "      <td>None</td>\n",
       "      <td></td>\n",
       "      <td></td>\n",
       "      <td>1969-05-07</td>\n",
       "      <td></td>\n",
       "      <td>0</td>\n",
       "      <td>0</td>\n",
       "    </tr>\n",
       "  </tbody>\n",
       "</table>\n",
       "<p>5 rows × 22 columns</p>\n",
       "</div>"
      ],
      "text/plain": [
       "   id first_name           last_name             city country  sex  height  \\\n",
       "0   1       Leif          Jägerbrand         Göteborg     SWE    0     177   \n",
       "1   2    Andreas            Collisch        stockholm     SWE    0       0   \n",
       "2   3     Magnus               Öberg             Umeå     SWE    0     180   \n",
       "3   4     Annika  Frodi-Lundgren (f)         Goteborg     SWE    1     165   \n",
       "4   5        Joe          McLoughlin  North Attleboro     USA    0       0   \n",
       "\n",
       "   weight  started competitions    ...    sponsor2 sponsor3  \\\n",
       "0      73     1996                 ...                        \n",
       "1       0     2000                 ...                        \n",
       "2      78     1995                 ...                        \n",
       "3      58     2001                 ...                        \n",
       "4       0     1991                 ...                        \n",
       "\n",
       "                       best_area worst_area guide_area interests      birth  \\\n",
       "0  Railay beach, Krabi, Thailand       None                      1976-03-10   \n",
       "1                                                                       NaT   \n",
       "2                           Hell       Umeå                      1973-09-09   \n",
       "3                                      None                      1984-07-26   \n",
       "4                                      None                      1969-05-07   \n",
       "\n",
       "  presentation deactivated anonymous  \n",
       "0                        0         0  \n",
       "1                        0         0  \n",
       "2                        0         0  \n",
       "3                        0         0  \n",
       "4                        0         0  \n",
       "\n",
       "[5 rows x 22 columns]"
      ]
     },
     "execution_count": 142,
     "metadata": {},
     "output_type": "execute_result"
    },
    {
     "name": "stdout",
     "output_type": "stream",
     "text": [
      "\n"
     ]
    }
   ],
   "source": [
    "user = pd.read_sql_query(\"SELECT * from User\", con, parse_dates=\"birth\")\n",
    "user.head()"
   ]
  },
  {
   "cell_type": "markdown",
   "metadata": {
    "slideshow": {
     "slide_type": "skip"
    }
   },
   "source": [
    "There looks to be a good amount of extraneous information, so let's just keep information related to a climber's physical attributes (sex, height, weight), as well as information on their birthday and when they started climbing."
   ]
  },
  {
   "cell_type": "code",
   "execution_count": 143,
   "metadata": {
    "slideshow": {
     "slide_type": "subslide"
    }
   },
   "outputs": [
    {
     "data": {
      "text/html": [
       "<div>\n",
       "<style>\n",
       "    .dataframe thead tr:only-child th {\n",
       "        text-align: right;\n",
       "    }\n",
       "\n",
       "    .dataframe thead th {\n",
       "        text-align: left;\n",
       "    }\n",
       "\n",
       "    .dataframe tbody tr th {\n",
       "        vertical-align: top;\n",
       "    }\n",
       "</style>\n",
       "<table border=\"1\" class=\"dataframe\">\n",
       "  <thead>\n",
       "    <tr style=\"text-align: right;\">\n",
       "      <th></th>\n",
       "      <th>user_id</th>\n",
       "      <th>first_name</th>\n",
       "      <th>last_name</th>\n",
       "      <th>sex</th>\n",
       "      <th>height</th>\n",
       "      <th>weight</th>\n",
       "      <th>started</th>\n",
       "      <th>birth</th>\n",
       "    </tr>\n",
       "  </thead>\n",
       "  <tbody>\n",
       "    <tr>\n",
       "      <th>0</th>\n",
       "      <td>1</td>\n",
       "      <td>Leif</td>\n",
       "      <td>Jägerbrand</td>\n",
       "      <td>0</td>\n",
       "      <td>177</td>\n",
       "      <td>73</td>\n",
       "      <td>1996</td>\n",
       "      <td>1976-03-10</td>\n",
       "    </tr>\n",
       "    <tr>\n",
       "      <th>1</th>\n",
       "      <td>2</td>\n",
       "      <td>Andreas</td>\n",
       "      <td>Collisch</td>\n",
       "      <td>0</td>\n",
       "      <td>0</td>\n",
       "      <td>0</td>\n",
       "      <td>2000</td>\n",
       "      <td>NaT</td>\n",
       "    </tr>\n",
       "    <tr>\n",
       "      <th>2</th>\n",
       "      <td>3</td>\n",
       "      <td>Magnus</td>\n",
       "      <td>Öberg</td>\n",
       "      <td>0</td>\n",
       "      <td>180</td>\n",
       "      <td>78</td>\n",
       "      <td>1995</td>\n",
       "      <td>1973-09-09</td>\n",
       "    </tr>\n",
       "    <tr>\n",
       "      <th>3</th>\n",
       "      <td>4</td>\n",
       "      <td>Annika</td>\n",
       "      <td>Frodi-Lundgren (f)</td>\n",
       "      <td>1</td>\n",
       "      <td>165</td>\n",
       "      <td>58</td>\n",
       "      <td>2001</td>\n",
       "      <td>1984-07-26</td>\n",
       "    </tr>\n",
       "    <tr>\n",
       "      <th>4</th>\n",
       "      <td>5</td>\n",
       "      <td>Joe</td>\n",
       "      <td>McLoughlin</td>\n",
       "      <td>0</td>\n",
       "      <td>0</td>\n",
       "      <td>0</td>\n",
       "      <td>1991</td>\n",
       "      <td>1969-05-07</td>\n",
       "    </tr>\n",
       "  </tbody>\n",
       "</table>\n",
       "</div>"
      ],
      "text/plain": [
       "   user_id first_name           last_name  sex  height  weight  started  \\\n",
       "0        1       Leif          Jägerbrand    0     177      73     1996   \n",
       "1        2    Andreas            Collisch    0       0       0     2000   \n",
       "2        3     Magnus               Öberg    0     180      78     1995   \n",
       "3        4     Annika  Frodi-Lundgren (f)    1     165      58     2001   \n",
       "4        5        Joe          McLoughlin    0       0       0     1991   \n",
       "\n",
       "       birth  \n",
       "0 1976-03-10  \n",
       "1        NaT  \n",
       "2 1973-09-09  \n",
       "3 1984-07-26  \n",
       "4 1969-05-07  "
      ]
     },
     "execution_count": 143,
     "metadata": {},
     "output_type": "execute_result"
    }
   ],
   "source": [
    "user.drop([\"city\", \"competitions\", \"occupation\", \"best_area\", \"worst_area\", \"guide_area\", \"interests\", \"presentation\", \"deactivated\", \"anonymous\", \"sponsor2\", \"sponsor3\", \"sponsor1\", \"country\"], axis=1, inplace=True)\n",
    "user.rename(columns={\"id\" : \"user_id\", \"country\" : \"climber_country\"}, inplace=True)\n",
    "\n",
    "user.head()"
   ]
  },
  {
   "cell_type": "markdown",
   "metadata": {
    "slideshow": {
     "slide_type": "skip"
    }
   },
   "source": [
    "Check for nulls:\n"
   ]
  },
  {
   "cell_type": "code",
   "execution_count": 144,
   "metadata": {
    "slideshow": {
     "slide_type": "skip"
    }
   },
   "outputs": [
    {
     "data": {
      "text/plain": [
       "user_id           0\n",
       "first_name        0\n",
       "last_name         0\n",
       "sex               0\n",
       "height            0\n",
       "weight            0\n",
       "started           0\n",
       "birth         34738\n",
       "dtype: int64"
      ]
     },
     "execution_count": 144,
     "metadata": {},
     "output_type": "execute_result"
    }
   ],
   "source": [
    "user.isnull().sum()"
   ]
  },
  {
   "cell_type": "markdown",
   "metadata": {
    "slideshow": {
     "slide_type": "skip"
    }
   },
   "source": [
    "Birthday will be import to our analysis later, so we need to flag those without birthdays, and create a list of users and their birthdays to merge back on later (since null values will get dropped in a groupby)"
   ]
  },
  {
   "cell_type": "code",
   "execution_count": 145,
   "metadata": {
    "collapsed": true,
    "slideshow": {
     "slide_type": "skip"
    }
   },
   "outputs": [],
   "source": [
    "user[\"miss_bd\"]=np.where(user.birth.isnull(), 1, 0)\n",
    "birthdays = user[[\"user_id\", \"birth\"]]"
   ]
  },
  {
   "cell_type": "markdown",
   "metadata": {
    "slideshow": {
     "slide_type": "skip"
    }
   },
   "source": [
    "We can also see in the above dataframe that there are climbers who also have 0s in their height and weight fields. Like birthday, climbers may not have wanted to share this online. Let's flag these as well."
   ]
  },
  {
   "cell_type": "code",
   "execution_count": 146,
   "metadata": {
    "collapsed": true,
    "slideshow": {
     "slide_type": "skip"
    }
   },
   "outputs": [],
   "source": [
    "user[\"weight_invalid\"]=np.where((user.weight==0), 1, 0)\n",
    "user[\"height_invalid\"]=np.where((user.height==0), 1, 0)"
   ]
  },
  {
   "cell_type": "code",
   "execution_count": 147,
   "metadata": {
    "slideshow": {
     "slide_type": "skip"
    }
   },
   "outputs": [
    {
     "data": {
      "text/plain": [
       "<matplotlib.text.Text at 0x1a2fe833d0>"
      ]
     },
     "execution_count": 147,
     "metadata": {},
     "output_type": "execute_result"
    },
    {
     "data": {
      "image/png": "[encoded data removed]",
      "text/plain": [
       "<matplotlib.figure.Figure at 0x1a3508eb50>"
      ]
     },
     "metadata": {},
     "output_type": "display_data"
    }
   ],
   "source": [
    "#Plot height distribution\n",
    "sns.distplot(user.height[user.height_invalid==0])\n",
    "plt.xlabel(s=\"height (cm)\")"
   ]
  },
  {
   "cell_type": "markdown",
   "metadata": {
    "slideshow": {
     "slide_type": "skip"
    }
   },
   "source": [
    "Looks like there's still some weirdly low/high heights (it's a European site, so this is in centimeters). Based on the above histogram, let's make our boundaries 150cm to 200cm (sorry anomalous climbers who are actually in that height range!)"
   ]
  },
  {
   "cell_type": "code",
   "execution_count": 148,
   "metadata": {
    "collapsed": true,
    "slideshow": {
     "slide_type": "skip"
    }
   },
   "outputs": [],
   "source": [
    "user[\"height_invalid\"]=np.where((user.height < 150) | (user.height > 200),1,0)"
   ]
  },
  {
   "cell_type": "code",
   "execution_count": 149,
   "metadata": {
    "slideshow": {
     "slide_type": "skip"
    }
   },
   "outputs": [
    {
     "data": {
      "text/plain": [
       "<matplotlib.text.Text at 0x1a2fec9750>"
      ]
     },
     "execution_count": 149,
     "metadata": {},
     "output_type": "execute_result"
    },
    {
     "data": {
      "image/png": "[encoded data removed]",
      "text/plain": [
       "<matplotlib.figure.Figure at 0x1a3014f790>"
      ]
     },
     "metadata": {},
     "output_type": "display_data"
    }
   ],
   "source": [
    "# Plot weight distribution\n",
    "sns.distplot(user.weight[user.weight_invalid==0])\n",
    "plt.xlabel(s=\"weight (kg)\")"
   ]
  },
  {
   "cell_type": "markdown",
   "metadata": {
    "slideshow": {
     "slide_type": "skip"
    }
   },
   "source": [
    "The weight field on 8a.nu is selected instead of typed in, hence the nice bucketing and reasonable range. There's still room for anomalous height/weight combinations, though, so let's calculate each user's Body Mass Index (BMI):\n",
    "\n",
    "        BMI = weight(kg) / height(cm)^2\n"
   ]
  },
  {
   "cell_type": "code",
   "execution_count": 150,
   "metadata": {
    "collapsed": true,
    "slideshow": {
     "slide_type": "skip"
    }
   },
   "outputs": [],
   "source": [
    "user['BMI'] = (user.weight) / ((user.height)/100)**2\n",
    "user['BMI_invalid'] = np.where((user.height_invalid ==1 ) | (user.weight_invalid == 1),1,0)"
   ]
  },
  {
   "cell_type": "code",
   "execution_count": 154,
   "metadata": {
    "scrolled": true,
    "slideshow": {
     "slide_type": "subslide"
    }
   },
   "outputs": [
    {
     "data": {
      "text/plain": [
       "<matplotlib.axes._subplots.AxesSubplot at 0x1a33dfd1d0>"
      ]
     },
     "execution_count": 154,
     "metadata": {},
     "output_type": "execute_result"
    },
    {
     "data": {
      "image/png": "[encoded data removed]",
      "text/plain": [
       "<matplotlib.figure.Figure at 0x1aefe5fd50>"
      ]
     },
     "metadata": {},
     "output_type": "display_data"
    }
   ],
   "source": [
    "# Plot BMI distribution\n",
    "fig, ax = plt.subplots()\n",
    "fig.set_size_inches(12, 5)\n",
    "sns.distplot(user.BMI[user.BMI_invalid==0])\n"
   ]
  },
  {
   "cell_type": "markdown",
   "metadata": {
    "slideshow": {
     "slide_type": "skip"
    }
   },
   "source": [
    "There still appears to be some outliers. The $Internet^{(tm)}$ tells me that a BMI below 18.5 is considered underweight, and a BMI over 30 is considered obsese. \n",
    "\n",
    "Link to source: https://www.nhs.uk/chq/Pages/3215.aspx?CategoryID=52\n",
    "\n",
    "Knowing that and looking at the above histogram, let's make our range a BMI of 16 to 31:"
   ]
  },
  {
   "cell_type": "code",
   "execution_count": 113,
   "metadata": {
    "collapsed": true,
    "slideshow": {
     "slide_type": "skip"
    }
   },
   "outputs": [],
   "source": [
    "user[\"BMI_invalid\"]=np.where((user.BMI < 16) | (user.BMI > 31),1,0)"
   ]
  },
  {
   "cell_type": "markdown",
   "metadata": {
    "slideshow": {
     "slide_type": "skip"
    }
   },
   "source": [
    "Consolidate height/weight/BMI invalid flags for future analysis:"
   ]
  },
  {
   "cell_type": "code",
   "execution_count": 114,
   "metadata": {
    "slideshow": {
     "slide_type": "skip"
    }
   },
   "outputs": [
    {
     "data": {
      "text/html": [
       "<div>\n",
       "<style>\n",
       "    .dataframe thead tr:only-child th {\n",
       "        text-align: right;\n",
       "    }\n",
       "\n",
       "    .dataframe thead th {\n",
       "        text-align: left;\n",
       "    }\n",
       "\n",
       "    .dataframe tbody tr th {\n",
       "        vertical-align: top;\n",
       "    }\n",
       "</style>\n",
       "<table border=\"1\" class=\"dataframe\">\n",
       "  <thead>\n",
       "    <tr style=\"text-align: right;\">\n",
       "      <th></th>\n",
       "      <th>user_id</th>\n",
       "      <th>first_name</th>\n",
       "      <th>last_name</th>\n",
       "      <th>sex</th>\n",
       "      <th>height</th>\n",
       "      <th>weight</th>\n",
       "      <th>started</th>\n",
       "      <th>birth</th>\n",
       "      <th>miss_bd</th>\n",
       "      <th>BMI</th>\n",
       "      <th>physicals_invalid</th>\n",
       "    </tr>\n",
       "  </thead>\n",
       "  <tbody>\n",
       "    <tr>\n",
       "      <th>0</th>\n",
       "      <td>1</td>\n",
       "      <td>Leif</td>\n",
       "      <td>Jägerbrand</td>\n",
       "      <td>0</td>\n",
       "      <td>177</td>\n",
       "      <td>73</td>\n",
       "      <td>1996</td>\n",
       "      <td>1976-03-10</td>\n",
       "      <td>0</td>\n",
       "      <td>23.301095</td>\n",
       "      <td>0</td>\n",
       "    </tr>\n",
       "    <tr>\n",
       "      <th>1</th>\n",
       "      <td>2</td>\n",
       "      <td>Andreas</td>\n",
       "      <td>Collisch</td>\n",
       "      <td>0</td>\n",
       "      <td>0</td>\n",
       "      <td>0</td>\n",
       "      <td>2000</td>\n",
       "      <td>NaT</td>\n",
       "      <td>1</td>\n",
       "      <td>NaN</td>\n",
       "      <td>1</td>\n",
       "    </tr>\n",
       "    <tr>\n",
       "      <th>2</th>\n",
       "      <td>3</td>\n",
       "      <td>Magnus</td>\n",
       "      <td>Öberg</td>\n",
       "      <td>0</td>\n",
       "      <td>180</td>\n",
       "      <td>78</td>\n",
       "      <td>1995</td>\n",
       "      <td>1973-09-09</td>\n",
       "      <td>0</td>\n",
       "      <td>24.074074</td>\n",
       "      <td>0</td>\n",
       "    </tr>\n",
       "    <tr>\n",
       "      <th>3</th>\n",
       "      <td>4</td>\n",
       "      <td>Annika</td>\n",
       "      <td>Frodi-Lundgren (f)</td>\n",
       "      <td>1</td>\n",
       "      <td>165</td>\n",
       "      <td>58</td>\n",
       "      <td>2001</td>\n",
       "      <td>1984-07-26</td>\n",
       "      <td>0</td>\n",
       "      <td>21.303949</td>\n",
       "      <td>0</td>\n",
       "    </tr>\n",
       "    <tr>\n",
       "      <th>4</th>\n",
       "      <td>5</td>\n",
       "      <td>Joe</td>\n",
       "      <td>McLoughlin</td>\n",
       "      <td>0</td>\n",
       "      <td>0</td>\n",
       "      <td>0</td>\n",
       "      <td>1991</td>\n",
       "      <td>1969-05-07</td>\n",
       "      <td>0</td>\n",
       "      <td>NaN</td>\n",
       "      <td>1</td>\n",
       "    </tr>\n",
       "  </tbody>\n",
       "</table>\n",
       "</div>"
      ],
      "text/plain": [
       "   user_id first_name           last_name  sex  height  weight  started  \\\n",
       "0        1       Leif          Jägerbrand    0     177      73     1996   \n",
       "1        2    Andreas            Collisch    0       0       0     2000   \n",
       "2        3     Magnus               Öberg    0     180      78     1995   \n",
       "3        4     Annika  Frodi-Lundgren (f)    1     165      58     2001   \n",
       "4        5        Joe          McLoughlin    0       0       0     1991   \n",
       "\n",
       "       birth  miss_bd        BMI  physicals_invalid  \n",
       "0 1976-03-10        0  23.301095                  0  \n",
       "1        NaT        1        NaN                  1  \n",
       "2 1973-09-09        0  24.074074                  0  \n",
       "3 1984-07-26        0  21.303949                  0  \n",
       "4 1969-05-07        0        NaN                  1  "
      ]
     },
     "execution_count": 114,
     "metadata": {},
     "output_type": "execute_result"
    }
   ],
   "source": [
    "user[\"physicals_invalid\"]=np.where((user.height_invalid==1) | (user.weight_invalid==1) | (user.BMI_invalid==1),1,0)\n",
    "user.drop([\"height_invalid\", \"weight_invalid\", \"BMI_invalid\"], axis=1).head()"
   ]
  },
  {
   "cell_type": "code",
   "execution_count": 115,
   "metadata": {
    "slideshow": {
     "slide_type": "skip"
    }
   },
   "outputs": [
    {
     "data": {
      "text/plain": [
       "62593"
      ]
     },
     "execution_count": 115,
     "metadata": {},
     "output_type": "execute_result"
    }
   ],
   "source": [
    "# Total number of climbers in the user table\n",
    "len(user)"
   ]
  },
  {
   "cell_type": "markdown",
   "metadata": {
    "slideshow": {
     "slide_type": "skip"
    }
   },
   "source": [
    "### Grade Table\n",
    "\n",
    "This table associates an ID in each ascent observation with that ascent's grade. As described earlier, a grade for a climb is essentially how difficult it is, and I'm hoping to predict the maximum grade one is able to climb. \n",
    "\n",
    "We'll be using the European grading system (which is much more granular), though I've kept the U.S. Yosemite system for my own reference.\n",
    "\n"
   ]
  },
  {
   "cell_type": "code",
   "execution_count": 116,
   "metadata": {
    "collapsed": true,
    "scrolled": true,
    "slideshow": {
     "slide_type": "skip"
    }
   },
   "outputs": [],
   "source": [
    "### Prepare grade table for merge with ascents\n",
    "grade = pd.read_sql_query(\"SELECT * from Grade\", con)\n",
    "\n",
    "# Keep grade classifiers; rename for merge\n",
    "grade = grade.filter([\"id\", \"fra_routes\", \"usa_routes\"])\n",
    "grade.rename(columns={\"id\" : \"grade_id\"}, inplace=True)"
   ]
  },
  {
   "cell_type": "code",
   "execution_count": 117,
   "metadata": {
    "slideshow": {
     "slide_type": "skip"
    }
   },
   "outputs": [
    {
     "data": {
      "text/html": [
       "<div>\n",
       "<style>\n",
       "    .dataframe thead tr:only-child th {\n",
       "        text-align: right;\n",
       "    }\n",
       "\n",
       "    .dataframe thead th {\n",
       "        text-align: left;\n",
       "    }\n",
       "\n",
       "    .dataframe tbody tr th {\n",
       "        vertical-align: top;\n",
       "    }\n",
       "</style>\n",
       "<table border=\"1\" class=\"dataframe\">\n",
       "  <thead>\n",
       "    <tr style=\"text-align: right;\">\n",
       "      <th></th>\n",
       "      <th>grade_id</th>\n",
       "      <th>fra_routes</th>\n",
       "      <th>usa_routes</th>\n",
       "    </tr>\n",
       "  </thead>\n",
       "  <tbody>\n",
       "    <tr>\n",
       "      <th>0</th>\n",
       "      <td>1</td>\n",
       "      <td>-</td>\n",
       "      <td>3/4</td>\n",
       "    </tr>\n",
       "    <tr>\n",
       "      <th>1</th>\n",
       "      <td>2</td>\n",
       "      <td>1</td>\n",
       "      <td></td>\n",
       "    </tr>\n",
       "    <tr>\n",
       "      <th>2</th>\n",
       "      <td>3</td>\n",
       "      <td>1a</td>\n",
       "      <td></td>\n",
       "    </tr>\n",
       "    <tr>\n",
       "      <th>3</th>\n",
       "      <td>4</td>\n",
       "      <td>1b</td>\n",
       "      <td></td>\n",
       "    </tr>\n",
       "    <tr>\n",
       "      <th>4</th>\n",
       "      <td>5</td>\n",
       "      <td>1c</td>\n",
       "      <td></td>\n",
       "    </tr>\n",
       "    <tr>\n",
       "      <th>5</th>\n",
       "      <td>6</td>\n",
       "      <td>1+</td>\n",
       "      <td></td>\n",
       "    </tr>\n",
       "    <tr>\n",
       "      <th>6</th>\n",
       "      <td>7</td>\n",
       "      <td>2</td>\n",
       "      <td>5.1</td>\n",
       "    </tr>\n",
       "    <tr>\n",
       "      <th>7</th>\n",
       "      <td>8</td>\n",
       "      <td>2a</td>\n",
       "      <td></td>\n",
       "    </tr>\n",
       "    <tr>\n",
       "      <th>8</th>\n",
       "      <td>9</td>\n",
       "      <td>2b</td>\n",
       "      <td></td>\n",
       "    </tr>\n",
       "    <tr>\n",
       "      <th>9</th>\n",
       "      <td>10</td>\n",
       "      <td>2c</td>\n",
       "      <td></td>\n",
       "    </tr>\n",
       "    <tr>\n",
       "      <th>10</th>\n",
       "      <td>11</td>\n",
       "      <td>2+</td>\n",
       "      <td>5.2</td>\n",
       "    </tr>\n",
       "    <tr>\n",
       "      <th>11</th>\n",
       "      <td>12</td>\n",
       "      <td>3</td>\n",
       "      <td>5.3</td>\n",
       "    </tr>\n",
       "    <tr>\n",
       "      <th>12</th>\n",
       "      <td>13</td>\n",
       "      <td>3a</td>\n",
       "      <td>5.3</td>\n",
       "    </tr>\n",
       "    <tr>\n",
       "      <th>13</th>\n",
       "      <td>14</td>\n",
       "      <td>3a+</td>\n",
       "      <td></td>\n",
       "    </tr>\n",
       "    <tr>\n",
       "      <th>14</th>\n",
       "      <td>15</td>\n",
       "      <td>3b</td>\n",
       "      <td>5.3</td>\n",
       "    </tr>\n",
       "    <tr>\n",
       "      <th>15</th>\n",
       "      <td>16</td>\n",
       "      <td>3b+</td>\n",
       "      <td></td>\n",
       "    </tr>\n",
       "    <tr>\n",
       "      <th>16</th>\n",
       "      <td>17</td>\n",
       "      <td>3c</td>\n",
       "      <td>5.3</td>\n",
       "    </tr>\n",
       "    <tr>\n",
       "      <th>17</th>\n",
       "      <td>18</td>\n",
       "      <td>3c+</td>\n",
       "      <td></td>\n",
       "    </tr>\n",
       "    <tr>\n",
       "      <th>18</th>\n",
       "      <td>19</td>\n",
       "      <td>3+</td>\n",
       "      <td></td>\n",
       "    </tr>\n",
       "    <tr>\n",
       "      <th>19</th>\n",
       "      <td>20</td>\n",
       "      <td>4</td>\n",
       "      <td></td>\n",
       "    </tr>\n",
       "    <tr>\n",
       "      <th>20</th>\n",
       "      <td>21</td>\n",
       "      <td>4a</td>\n",
       "      <td>5.4</td>\n",
       "    </tr>\n",
       "    <tr>\n",
       "      <th>21</th>\n",
       "      <td>22</td>\n",
       "      <td>4a+</td>\n",
       "      <td></td>\n",
       "    </tr>\n",
       "    <tr>\n",
       "      <th>22</th>\n",
       "      <td>23</td>\n",
       "      <td>4b</td>\n",
       "      <td>5.5</td>\n",
       "    </tr>\n",
       "    <tr>\n",
       "      <th>23</th>\n",
       "      <td>24</td>\n",
       "      <td>4b+</td>\n",
       "      <td></td>\n",
       "    </tr>\n",
       "    <tr>\n",
       "      <th>24</th>\n",
       "      <td>25</td>\n",
       "      <td>4c</td>\n",
       "      <td>5.6</td>\n",
       "    </tr>\n",
       "    <tr>\n",
       "      <th>25</th>\n",
       "      <td>26</td>\n",
       "      <td>4c+</td>\n",
       "      <td></td>\n",
       "    </tr>\n",
       "    <tr>\n",
       "      <th>26</th>\n",
       "      <td>27</td>\n",
       "      <td>4+</td>\n",
       "      <td>5.7</td>\n",
       "    </tr>\n",
       "    <tr>\n",
       "      <th>27</th>\n",
       "      <td>28</td>\n",
       "      <td>5</td>\n",
       "      <td></td>\n",
       "    </tr>\n",
       "    <tr>\n",
       "      <th>28</th>\n",
       "      <td>29</td>\n",
       "      <td>5a</td>\n",
       "      <td>5.7</td>\n",
       "    </tr>\n",
       "    <tr>\n",
       "      <th>29</th>\n",
       "      <td>30</td>\n",
       "      <td>5a+</td>\n",
       "      <td>5.7</td>\n",
       "    </tr>\n",
       "    <tr>\n",
       "      <th>...</th>\n",
       "      <td>...</td>\n",
       "      <td>...</td>\n",
       "      <td>...</td>\n",
       "    </tr>\n",
       "    <tr>\n",
       "      <th>53</th>\n",
       "      <td>55</td>\n",
       "      <td>7b+</td>\n",
       "      <td>5.12c</td>\n",
       "    </tr>\n",
       "    <tr>\n",
       "      <th>54</th>\n",
       "      <td>56</td>\n",
       "      <td>7b+/7c</td>\n",
       "      <td></td>\n",
       "    </tr>\n",
       "    <tr>\n",
       "      <th>55</th>\n",
       "      <td>57</td>\n",
       "      <td>7c</td>\n",
       "      <td>5.12d</td>\n",
       "    </tr>\n",
       "    <tr>\n",
       "      <th>56</th>\n",
       "      <td>58</td>\n",
       "      <td>7c/+</td>\n",
       "      <td></td>\n",
       "    </tr>\n",
       "    <tr>\n",
       "      <th>57</th>\n",
       "      <td>59</td>\n",
       "      <td>7c+</td>\n",
       "      <td>5.13a</td>\n",
       "    </tr>\n",
       "    <tr>\n",
       "      <th>58</th>\n",
       "      <td>60</td>\n",
       "      <td>7c+/8a</td>\n",
       "      <td></td>\n",
       "    </tr>\n",
       "    <tr>\n",
       "      <th>59</th>\n",
       "      <td>62</td>\n",
       "      <td>8a</td>\n",
       "      <td>5.13b</td>\n",
       "    </tr>\n",
       "    <tr>\n",
       "      <th>60</th>\n",
       "      <td>63</td>\n",
       "      <td>8a/+</td>\n",
       "      <td></td>\n",
       "    </tr>\n",
       "    <tr>\n",
       "      <th>61</th>\n",
       "      <td>64</td>\n",
       "      <td>8a+</td>\n",
       "      <td>5.13c</td>\n",
       "    </tr>\n",
       "    <tr>\n",
       "      <th>62</th>\n",
       "      <td>65</td>\n",
       "      <td>8a+/8b</td>\n",
       "      <td></td>\n",
       "    </tr>\n",
       "    <tr>\n",
       "      <th>63</th>\n",
       "      <td>66</td>\n",
       "      <td>8b</td>\n",
       "      <td>5.13d</td>\n",
       "    </tr>\n",
       "    <tr>\n",
       "      <th>64</th>\n",
       "      <td>67</td>\n",
       "      <td>8b/+</td>\n",
       "      <td></td>\n",
       "    </tr>\n",
       "    <tr>\n",
       "      <th>65</th>\n",
       "      <td>68</td>\n",
       "      <td>8b+</td>\n",
       "      <td>5.14a</td>\n",
       "    </tr>\n",
       "    <tr>\n",
       "      <th>66</th>\n",
       "      <td>69</td>\n",
       "      <td>8b+/8c</td>\n",
       "      <td></td>\n",
       "    </tr>\n",
       "    <tr>\n",
       "      <th>67</th>\n",
       "      <td>70</td>\n",
       "      <td>8c</td>\n",
       "      <td>5.14b</td>\n",
       "    </tr>\n",
       "    <tr>\n",
       "      <th>68</th>\n",
       "      <td>71</td>\n",
       "      <td>8c/+</td>\n",
       "      <td>5.14b/c</td>\n",
       "    </tr>\n",
       "    <tr>\n",
       "      <th>69</th>\n",
       "      <td>72</td>\n",
       "      <td>8c+</td>\n",
       "      <td>5.14c</td>\n",
       "    </tr>\n",
       "    <tr>\n",
       "      <th>70</th>\n",
       "      <td>73</td>\n",
       "      <td>8c+/9a</td>\n",
       "      <td>5.14c/d</td>\n",
       "    </tr>\n",
       "    <tr>\n",
       "      <th>71</th>\n",
       "      <td>75</td>\n",
       "      <td>9a</td>\n",
       "      <td>5.14d</td>\n",
       "    </tr>\n",
       "    <tr>\n",
       "      <th>72</th>\n",
       "      <td>76</td>\n",
       "      <td>9a/+</td>\n",
       "      <td>5.14d/.15a</td>\n",
       "    </tr>\n",
       "    <tr>\n",
       "      <th>73</th>\n",
       "      <td>77</td>\n",
       "      <td>9a+</td>\n",
       "      <td>5.15a</td>\n",
       "    </tr>\n",
       "    <tr>\n",
       "      <th>74</th>\n",
       "      <td>78</td>\n",
       "      <td>9a+/9b</td>\n",
       "      <td>5.15a/b</td>\n",
       "    </tr>\n",
       "    <tr>\n",
       "      <th>75</th>\n",
       "      <td>79</td>\n",
       "      <td>9b</td>\n",
       "      <td>5.15b</td>\n",
       "    </tr>\n",
       "    <tr>\n",
       "      <th>76</th>\n",
       "      <td>80</td>\n",
       "      <td>9b/+</td>\n",
       "      <td>5.15b/c</td>\n",
       "    </tr>\n",
       "    <tr>\n",
       "      <th>77</th>\n",
       "      <td>81</td>\n",
       "      <td>9b+</td>\n",
       "      <td>5.15c</td>\n",
       "    </tr>\n",
       "    <tr>\n",
       "      <th>78</th>\n",
       "      <td>82</td>\n",
       "      <td>9b+/9c</td>\n",
       "      <td></td>\n",
       "    </tr>\n",
       "    <tr>\n",
       "      <th>79</th>\n",
       "      <td>83</td>\n",
       "      <td>9c</td>\n",
       "      <td></td>\n",
       "    </tr>\n",
       "    <tr>\n",
       "      <th>80</th>\n",
       "      <td>84</td>\n",
       "      <td>9c/+</td>\n",
       "      <td></td>\n",
       "    </tr>\n",
       "    <tr>\n",
       "      <th>81</th>\n",
       "      <td>85</td>\n",
       "      <td>9c+</td>\n",
       "      <td></td>\n",
       "    </tr>\n",
       "    <tr>\n",
       "      <th>82</th>\n",
       "      <td>86</td>\n",
       "      <td>9c+/10a</td>\n",
       "      <td></td>\n",
       "    </tr>\n",
       "  </tbody>\n",
       "</table>\n",
       "<p>83 rows × 3 columns</p>\n",
       "</div>"
      ],
      "text/plain": [
       "    grade_id fra_routes  usa_routes\n",
       "0          1          -         3/4\n",
       "1          2          1            \n",
       "2          3         1a            \n",
       "3          4         1b            \n",
       "4          5         1c            \n",
       "5          6         1+            \n",
       "6          7          2         5.1\n",
       "7          8         2a            \n",
       "8          9         2b            \n",
       "9         10         2c            \n",
       "10        11         2+         5.2\n",
       "11        12          3         5.3\n",
       "12        13         3a         5.3\n",
       "13        14        3a+            \n",
       "14        15         3b         5.3\n",
       "15        16        3b+            \n",
       "16        17         3c         5.3\n",
       "17        18        3c+            \n",
       "18        19         3+            \n",
       "19        20          4            \n",
       "20        21         4a         5.4\n",
       "21        22        4a+            \n",
       "22        23         4b         5.5\n",
       "23        24        4b+            \n",
       "24        25         4c         5.6\n",
       "25        26        4c+            \n",
       "26        27         4+         5.7\n",
       "27        28          5            \n",
       "28        29         5a         5.7\n",
       "29        30        5a+         5.7\n",
       "..       ...        ...         ...\n",
       "53        55        7b+       5.12c\n",
       "54        56     7b+/7c            \n",
       "55        57         7c       5.12d\n",
       "56        58       7c/+            \n",
       "57        59        7c+       5.13a\n",
       "58        60     7c+/8a            \n",
       "59        62         8a       5.13b\n",
       "60        63       8a/+            \n",
       "61        64        8a+       5.13c\n",
       "62        65     8a+/8b            \n",
       "63        66         8b       5.13d\n",
       "64        67       8b/+            \n",
       "65        68        8b+       5.14a\n",
       "66        69     8b+/8c            \n",
       "67        70         8c       5.14b\n",
       "68        71       8c/+     5.14b/c\n",
       "69        72        8c+       5.14c\n",
       "70        73     8c+/9a     5.14c/d\n",
       "71        75         9a       5.14d\n",
       "72        76       9a/+  5.14d/.15a\n",
       "73        77        9a+       5.15a\n",
       "74        78     9a+/9b     5.15a/b\n",
       "75        79         9b       5.15b\n",
       "76        80       9b/+     5.15b/c\n",
       "77        81        9b+       5.15c\n",
       "78        82     9b+/9c            \n",
       "79        83         9c            \n",
       "80        84       9c/+            \n",
       "81        85        9c+            \n",
       "82        86    9c+/10a            \n",
       "\n",
       "[83 rows x 3 columns]"
      ]
     },
     "execution_count": 117,
     "metadata": {},
     "output_type": "execute_result"
    }
   ],
   "source": [
    "grade.head(len(grade))"
   ]
  },
  {
   "cell_type": "markdown",
   "metadata": {
    "slideshow": {
     "slide_type": "slide"
    }
   },
   "source": [
    "### Ascent Table\n",
    "\n",
    "This data contains one observation per recorded ascent. "
   ]
  },
  {
   "cell_type": "code",
   "execution_count": 118,
   "metadata": {
    "slideshow": {
     "slide_type": "skip"
    }
   },
   "outputs": [],
   "source": [
    "### Prepare ascent table\n",
    "ascent = pd.read_sql_query(\"SELECT * from Ascent\", con, parse_dates=[\"date\", \"rec_date\", \"project_ascent_date\"])\n",
    "\n",
    "# Drop variables irrelevant to our analysis\n",
    "ascent.drop([\"raw_notes\", \"year\", \"notes\", \"last_year\", \"rec_date\", \"rating\", \"repeat\", \"project_ascent_date\", \"description\", \"yellow_id\", \"user_recommended\", \"chipped\", \"comment\", \"name\", \"crag_id\", \"crag\", \"sector_id\", \"sector\", \"country\", \"total_score\", \"exclude_from_ranking\"], axis=1, inplace=True)"
   ]
  },
  {
   "cell_type": "code",
   "execution_count": 119,
   "metadata": {
    "slideshow": {
     "slide_type": "fragment"
    }
   },
   "outputs": [
    {
     "data": {
      "text/html": [
       "<div>\n",
       "<style>\n",
       "    .dataframe thead tr:only-child th {\n",
       "        text-align: right;\n",
       "    }\n",
       "\n",
       "    .dataframe thead th {\n",
       "        text-align: left;\n",
       "    }\n",
       "\n",
       "    .dataframe tbody tr th {\n",
       "        vertical-align: top;\n",
       "    }\n",
       "</style>\n",
       "<table border=\"1\" class=\"dataframe\">\n",
       "  <thead>\n",
       "    <tr style=\"text-align: right;\">\n",
       "      <th></th>\n",
       "      <th>id</th>\n",
       "      <th>user_id</th>\n",
       "      <th>grade_id</th>\n",
       "      <th>method_id</th>\n",
       "      <th>climb_type</th>\n",
       "      <th>date</th>\n",
       "      <th>climb_try</th>\n",
       "    </tr>\n",
       "  </thead>\n",
       "  <tbody>\n",
       "    <tr>\n",
       "      <th>0</th>\n",
       "      <td>2</td>\n",
       "      <td>1</td>\n",
       "      <td>36</td>\n",
       "      <td>3</td>\n",
       "      <td>0</td>\n",
       "      <td>1999-02-06 23:00:00</td>\n",
       "      <td>0</td>\n",
       "    </tr>\n",
       "    <tr>\n",
       "      <th>1</th>\n",
       "      <td>3</td>\n",
       "      <td>1</td>\n",
       "      <td>36</td>\n",
       "      <td>3</td>\n",
       "      <td>0</td>\n",
       "      <td>1999-04-30 22:00:00</td>\n",
       "      <td>0</td>\n",
       "    </tr>\n",
       "    <tr>\n",
       "      <th>2</th>\n",
       "      <td>4</td>\n",
       "      <td>1</td>\n",
       "      <td>36</td>\n",
       "      <td>3</td>\n",
       "      <td>0</td>\n",
       "      <td>1999-07-26 22:00:00</td>\n",
       "      <td>0</td>\n",
       "    </tr>\n",
       "    <tr>\n",
       "      <th>3</th>\n",
       "      <td>5</td>\n",
       "      <td>1</td>\n",
       "      <td>36</td>\n",
       "      <td>3</td>\n",
       "      <td>0</td>\n",
       "      <td>1999-07-26 22:00:00</td>\n",
       "      <td>0</td>\n",
       "    </tr>\n",
       "    <tr>\n",
       "      <th>4</th>\n",
       "      <td>6</td>\n",
       "      <td>1</td>\n",
       "      <td>36</td>\n",
       "      <td>3</td>\n",
       "      <td>0</td>\n",
       "      <td>1999-07-31 22:00:00</td>\n",
       "      <td>0</td>\n",
       "    </tr>\n",
       "  </tbody>\n",
       "</table>\n",
       "</div>"
      ],
      "text/plain": [
       "   id  user_id  grade_id  method_id  climb_type                date  climb_try\n",
       "0   2        1        36          3           0 1999-02-06 23:00:00          0\n",
       "1   3        1        36          3           0 1999-04-30 22:00:00          0\n",
       "2   4        1        36          3           0 1999-07-26 22:00:00          0\n",
       "3   5        1        36          3           0 1999-07-26 22:00:00          0\n",
       "4   6        1        36          3           0 1999-07-31 22:00:00          0"
      ]
     },
     "execution_count": 119,
     "metadata": {},
     "output_type": "execute_result"
    }
   ],
   "source": [
    "ascent.head(5)"
   ]
  },
  {
   "cell_type": "markdown",
   "metadata": {
    "slideshow": {
     "slide_type": "skip"
    }
   },
   "source": [
    "Drop if a climb was tried but not completed (climb_try==1):"
   ]
  },
  {
   "cell_type": "code",
   "execution_count": 120,
   "metadata": {
    "collapsed": true,
    "slideshow": {
     "slide_type": "skip"
    }
   },
   "outputs": [],
   "source": [
    "ascent = ascent[ascent.climb_try!=1]\n",
    "ascent.drop(\"climb_try\", axis=1, inplace=True)"
   ]
  },
  {
   "cell_type": "markdown",
   "metadata": {
    "slideshow": {
     "slide_type": "skip"
    }
   },
   "source": [
    "Merge all of the above datasets together. Now we can associate a climber with each climb, as well as the method and grade associated with method_id and grade_id."
   ]
  },
  {
   "cell_type": "code",
   "execution_count": 121,
   "metadata": {
    "collapsed": true,
    "slideshow": {
     "slide_type": "skip"
    }
   },
   "outputs": [],
   "source": [
    "ascent = pd.merge(ascent, method, on=\"method_id\")\n",
    "ascent = pd.merge(ascent, user, on=\"user_id\")\n",
    "ascent = pd.merge(ascent, grade, on=\"grade_id\")"
   ]
  },
  {
   "cell_type": "code",
   "execution_count": 122,
   "metadata": {
    "collapsed": true,
    "slideshow": {
     "slide_type": "skip"
    }
   },
   "outputs": [],
   "source": [
    "# Make all onsight climbs method_id==3\n",
    "ascent.method_id.replace(to_replace=5, value=3, inplace=True)"
   ]
  },
  {
   "cell_type": "markdown",
   "metadata": {
    "slideshow": {
     "slide_type": "skip"
    }
   },
   "source": [
    "# Feature Engineering\n",
    "\n",
    "Let's get some counts of the total number of climbs each climber has completed, as well as counts for each of the above described methods of climbing. We also want to get the first and last year each climber logged a climb. This will be talked about next:"
   ]
  },
  {
   "cell_type": "code",
   "execution_count": 123,
   "metadata": {
    "collapsed": true,
    "slideshow": {
     "slide_type": "skip"
    }
   },
   "outputs": [],
   "source": [
    "# Create counters to get total number of climbs\n",
    "ascent['counter'] = 1\n",
    "\n",
    "# Create dummies for each climbing method for counts\n",
    "method_dummies = pd.get_dummies(ascent.method_id, prefix=\"method\", prefix_sep=\"_\")\n",
    "ascent = ascent.merge(method_dummies, left_index=True, right_index=True)\n",
    "\n",
    "# Pull year from ascent date for first year and most recent year\n",
    "ascent['year'] = ascent.date.dt.year\n",
    "\n",
    "#Group ascent by person to get their maximum grade (our y of interest) and total number of climbs\n",
    "by_person = ascent.groupby([\"user_id\", \"height\", \"weight\", \"sex\", \"BMI\",\"started\", \"miss_bd\", \"physicals_invalid\"], as_index=False).agg({'grade_id' : ['max', \"mean\"], 'year' : ['max', 'min'], 'climb_type' : 'sum', 'counter' : 'sum', 'method_1' : 'sum', 'method_2' : 'sum', 'method_3' : 'sum', 'method_4' : 'sum'})\n",
    "\n",
    "#Rename multindex columns\n",
    "by_person.columns = ['_'.join(var).strip() for var in by_person.columns.values]\n",
    "by_person.reset_index(inplace=True)\n",
    "by_person.columns = by_person.columns.str.replace(r'_$', '')\n"
   ]
  },
  {
   "cell_type": "code",
   "execution_count": 124,
   "metadata": {
    "collapsed": true,
    "slideshow": {
     "slide_type": "skip"
    }
   },
   "outputs": [],
   "source": [
    "# Get the first year that each climber climbed their maximum grade\n",
    "max_grade = by_person[[\"user_id\", \"grade_id_max\"]]\n",
    "ascent = pd.merge(ascent, max_grade, on=\"user_id\")\n",
    "ascent = ascent[ascent.grade_id == ascent.grade_id_max]\n",
    "ascent = ascent[[\"user_id\", \"year\"]].sort_values([\"user_id\", \"year\"])\n",
    "max_grade = ascent.groupby(\"user_id\", as_index=False).min()\n",
    "max_grade.rename(columns={\"year\" : \"year_max_grade\"}, inplace=True)\n",
    "\n",
    "by_person = pd.merge(by_person, max_grade, on=\"user_id\")"
   ]
  },
  {
   "cell_type": "code",
   "execution_count": 125,
   "metadata": {
    "collapsed": true,
    "slideshow": {
     "slide_type": "skip"
    }
   },
   "outputs": [],
   "source": [
    "# Make ascent blank because it makes my computer slow :(\n",
    "ascent=\"\""
   ]
  },
  {
   "cell_type": "code",
   "execution_count": 126,
   "metadata": {
    "slideshow": {
     "slide_type": "skip"
    }
   },
   "outputs": [
    {
     "data": {
      "text/html": [
       "<div>\n",
       "<style>\n",
       "    .dataframe thead tr:only-child th {\n",
       "        text-align: right;\n",
       "    }\n",
       "\n",
       "    .dataframe thead th {\n",
       "        text-align: left;\n",
       "    }\n",
       "\n",
       "    .dataframe tbody tr th {\n",
       "        vertical-align: top;\n",
       "    }\n",
       "</style>\n",
       "<table border=\"1\" class=\"dataframe\">\n",
       "  <thead>\n",
       "    <tr style=\"text-align: right;\">\n",
       "      <th></th>\n",
       "      <th>index</th>\n",
       "      <th>user_id</th>\n",
       "      <th>height</th>\n",
       "      <th>weight</th>\n",
       "      <th>sex</th>\n",
       "      <th>BMI</th>\n",
       "      <th>started</th>\n",
       "      <th>miss_bd</th>\n",
       "      <th>physicals_invalid</th>\n",
       "      <th>year_max</th>\n",
       "      <th>year_min</th>\n",
       "      <th>counter_sum</th>\n",
       "      <th>grade_id_max</th>\n",
       "      <th>grade_id_mean</th>\n",
       "      <th>year_max_grade</th>\n",
       "      <th>redpoint_pct</th>\n",
       "      <th>flash_pct</th>\n",
       "      <th>onsite_pct</th>\n",
       "      <th>toprope_pct</th>\n",
       "      <th>route_pct</th>\n",
       "    </tr>\n",
       "  </thead>\n",
       "  <tbody>\n",
       "    <tr>\n",
       "      <th>0</th>\n",
       "      <td>0</td>\n",
       "      <td>1</td>\n",
       "      <td>177</td>\n",
       "      <td>73</td>\n",
       "      <td>0</td>\n",
       "      <td>23.301095</td>\n",
       "      <td>1996</td>\n",
       "      <td>0</td>\n",
       "      <td>0</td>\n",
       "      <td>2005</td>\n",
       "      <td>1998</td>\n",
       "      <td>210</td>\n",
       "      <td>62</td>\n",
       "      <td>44.433333</td>\n",
       "      <td>2001</td>\n",
       "      <td>0.728571</td>\n",
       "      <td>0.009524</td>\n",
       "      <td>0.257143</td>\n",
       "      <td>0.004762</td>\n",
       "      <td>0.290476</td>\n",
       "    </tr>\n",
       "    <tr>\n",
       "      <th>1</th>\n",
       "      <td>1</td>\n",
       "      <td>3</td>\n",
       "      <td>180</td>\n",
       "      <td>78</td>\n",
       "      <td>0</td>\n",
       "      <td>24.074074</td>\n",
       "      <td>1995</td>\n",
       "      <td>0</td>\n",
       "      <td>0</td>\n",
       "      <td>2001</td>\n",
       "      <td>1995</td>\n",
       "      <td>61</td>\n",
       "      <td>62</td>\n",
       "      <td>51.819672</td>\n",
       "      <td>1999</td>\n",
       "      <td>0.950820</td>\n",
       "      <td>0.049180</td>\n",
       "      <td>0.000000</td>\n",
       "      <td>0.000000</td>\n",
       "      <td>0.196721</td>\n",
       "    </tr>\n",
       "    <tr>\n",
       "      <th>2</th>\n",
       "      <td>2</td>\n",
       "      <td>4</td>\n",
       "      <td>165</td>\n",
       "      <td>58</td>\n",
       "      <td>1</td>\n",
       "      <td>21.303949</td>\n",
       "      <td>2001</td>\n",
       "      <td>0</td>\n",
       "      <td>0</td>\n",
       "      <td>2009</td>\n",
       "      <td>2003</td>\n",
       "      <td>180</td>\n",
       "      <td>64</td>\n",
       "      <td>53.038889</td>\n",
       "      <td>2008</td>\n",
       "      <td>0.527778</td>\n",
       "      <td>0.127778</td>\n",
       "      <td>0.338889</td>\n",
       "      <td>0.005556</td>\n",
       "      <td>0.050000</td>\n",
       "    </tr>\n",
       "    <tr>\n",
       "      <th>3</th>\n",
       "      <td>3</td>\n",
       "      <td>6</td>\n",
       "      <td>185</td>\n",
       "      <td>73</td>\n",
       "      <td>0</td>\n",
       "      <td>21.329438</td>\n",
       "      <td>1992</td>\n",
       "      <td>0</td>\n",
       "      <td>0</td>\n",
       "      <td>2001</td>\n",
       "      <td>1999</td>\n",
       "      <td>31</td>\n",
       "      <td>64</td>\n",
       "      <td>58.193548</td>\n",
       "      <td>2001</td>\n",
       "      <td>0.935484</td>\n",
       "      <td>0.064516</td>\n",
       "      <td>0.000000</td>\n",
       "      <td>0.000000</td>\n",
       "      <td>1.000000</td>\n",
       "    </tr>\n",
       "    <tr>\n",
       "      <th>4</th>\n",
       "      <td>4</td>\n",
       "      <td>10</td>\n",
       "      <td>167</td>\n",
       "      <td>63</td>\n",
       "      <td>0</td>\n",
       "      <td>22.589551</td>\n",
       "      <td>1992</td>\n",
       "      <td>0</td>\n",
       "      <td>0</td>\n",
       "      <td>2017</td>\n",
       "      <td>1991</td>\n",
       "      <td>727</td>\n",
       "      <td>64</td>\n",
       "      <td>48.215956</td>\n",
       "      <td>2000</td>\n",
       "      <td>0.599725</td>\n",
       "      <td>0.020633</td>\n",
       "      <td>0.302613</td>\n",
       "      <td>0.077029</td>\n",
       "      <td>0.114168</td>\n",
       "    </tr>\n",
       "  </tbody>\n",
       "</table>\n",
       "</div>"
      ],
      "text/plain": [
       "   index  user_id  height  weight  sex        BMI  started  miss_bd  \\\n",
       "0      0        1     177      73    0  23.301095     1996        0   \n",
       "1      1        3     180      78    0  24.074074     1995        0   \n",
       "2      2        4     165      58    1  21.303949     2001        0   \n",
       "3      3        6     185      73    0  21.329438     1992        0   \n",
       "4      4       10     167      63    0  22.589551     1992        0   \n",
       "\n",
       "   physicals_invalid  year_max  year_min  counter_sum  grade_id_max  \\\n",
       "0                  0      2005      1998          210            62   \n",
       "1                  0      2001      1995           61            62   \n",
       "2                  0      2009      2003          180            64   \n",
       "3                  0      2001      1999           31            64   \n",
       "4                  0      2017      1991          727            64   \n",
       "\n",
       "   grade_id_mean  year_max_grade  redpoint_pct  flash_pct  onsite_pct  \\\n",
       "0      44.433333            2001      0.728571   0.009524    0.257143   \n",
       "1      51.819672            1999      0.950820   0.049180    0.000000   \n",
       "2      53.038889            2008      0.527778   0.127778    0.338889   \n",
       "3      58.193548            2001      0.935484   0.064516    0.000000   \n",
       "4      48.215956            2000      0.599725   0.020633    0.302613   \n",
       "\n",
       "   toprope_pct  route_pct  \n",
       "0     0.004762   0.290476  \n",
       "1     0.000000   0.196721  \n",
       "2     0.005556   0.050000  \n",
       "3     0.000000   1.000000  \n",
       "4     0.077029   0.114168  "
      ]
     },
     "execution_count": 126,
     "metadata": {},
     "output_type": "execute_result"
    }
   ],
   "source": [
    "# Create percentage of each climb method, as well as climb type\n",
    "by_person[\"redpoint_pct\"] = by_person.method_1_sum / by_person.counter_sum\n",
    "by_person[\"flash_pct\"] = by_person.method_2_sum / by_person.counter_sum\n",
    "by_person[\"onsite_pct\"] = by_person.method_3_sum / by_person.counter_sum\n",
    "by_person[\"toprope_pct\"] = by_person.method_4_sum / by_person.counter_sum\n",
    "by_person[\"route_pct\"] = by_person.climb_type_sum / by_person.counter_sum\n",
    "\n",
    "by_person.drop([\"method_1_sum\", \"method_2_sum\", \"method_3_sum\", \"method_4_sum\", \"climb_type_sum\"], axis=1, inplace=True)\n",
    "by_person.head()   "
   ]
  },
  {
   "cell_type": "code",
   "execution_count": 127,
   "metadata": {
    "collapsed": true,
    "slideshow": {
     "slide_type": "skip"
    }
   },
   "outputs": [],
   "source": [
    "# Merge birthday back on. This will drop some users as not every user has logged an ascent.\n",
    "by_person = pd.merge(by_person, birthdays, on=\"user_id\")"
   ]
  },
  {
   "cell_type": "code",
   "execution_count": 128,
   "metadata": {
    "slideshow": {
     "slide_type": "skip"
    }
   },
   "outputs": [
    {
     "data": {
      "text/plain": [
       "24653"
      ]
     },
     "execution_count": 128,
     "metadata": {},
     "output_type": "execute_result"
    }
   ],
   "source": [
    "# Check for the total number of climbers\n",
    "len(by_person)"
   ]
  },
  {
   "cell_type": "markdown",
   "metadata": {
    "slideshow": {
     "slide_type": "skip"
    }
   },
   "source": [
    "We can created a feature that shows the number of years of experience a climber has by subtracting the year of the \"started\" variable (from Users, tells us what year each climber started climbing) from the year of their most recent climb.\n",
    "\n",
    "Like many other of the variables, the \"started\" variables has some 0/weird values. For those, we'll replace their \"started\" value with the year of their first logged climb."
   ]
  },
  {
   "cell_type": "code",
   "execution_count": 129,
   "metadata": {
    "collapsed": true,
    "slideshow": {
     "slide_type": "skip"
    }
   },
   "outputs": [],
   "source": [
    "# Get birth year\n",
    "by_person[\"birth_year\"] = by_person[by_person.miss_bd==0].birth.dt.year\n",
    "\n",
    "# # Replace 0s, started years that are before birthdays, and started years that haven't happened yet with the year of their first climb\n",
    "by_person.loc[by_person.started==0, \"started\"] = by_person.year_min\n",
    "by_person.loc[by_person.birth_year >= by_person.started, \"started\"] = by_person.year_min\n",
    "by_person.loc[by_person.started > 2017, \"started\"] = by_person.year_min\n",
    "\n",
    "# # Create years climbing variable\n",
    "by_person[\"years_climbing\"] = by_person.year_max - by_person.started\n",
    "\n",
    "# # Drops\n",
    "by_person.drop([\"year_min\", \"year_max\", \"index\", \"birth\", \"birth_year\"], axis=1, inplace=True)\n",
    "\n",
    "# # Set index\n",
    "by_person.set_index(\"user_id\", inplace=True)\n",
    "\n"
   ]
  },
  {
   "cell_type": "markdown",
   "metadata": {
    "slideshow": {
     "slide_type": "skip"
    }
   },
   "source": [
    "Now we can also create a variable to see how long it took each person to climb their highest grade:"
   ]
  },
  {
   "cell_type": "code",
   "execution_count": 130,
   "metadata": {
    "collapsed": true,
    "slideshow": {
     "slide_type": "skip"
    }
   },
   "outputs": [],
   "source": [
    "by_person[\"years_to_max\"] = by_person.year_max_grade - by_person.started\n",
    "by_person.loc[by_person.years_to_max < 0, \"years_to_max\"] = 0"
   ]
  },
  {
   "cell_type": "code",
   "execution_count": 131,
   "metadata": {
    "slideshow": {
     "slide_type": "skip"
    }
   },
   "outputs": [
    {
     "data": {
      "text/html": [
       "<div>\n",
       "<style>\n",
       "    .dataframe thead tr:only-child th {\n",
       "        text-align: right;\n",
       "    }\n",
       "\n",
       "    .dataframe thead th {\n",
       "        text-align: left;\n",
       "    }\n",
       "\n",
       "    .dataframe tbody tr th {\n",
       "        vertical-align: top;\n",
       "    }\n",
       "</style>\n",
       "<table border=\"1\" class=\"dataframe\">\n",
       "  <thead>\n",
       "    <tr style=\"text-align: right;\">\n",
       "      <th></th>\n",
       "      <th>height</th>\n",
       "      <th>weight</th>\n",
       "      <th>sex</th>\n",
       "      <th>BMI</th>\n",
       "      <th>started</th>\n",
       "      <th>miss_bd</th>\n",
       "      <th>physicals_invalid</th>\n",
       "      <th>counter_sum</th>\n",
       "      <th>grade_id_max</th>\n",
       "      <th>grade_id_mean</th>\n",
       "      <th>year_max_grade</th>\n",
       "      <th>redpoint_pct</th>\n",
       "      <th>flash_pct</th>\n",
       "      <th>onsite_pct</th>\n",
       "      <th>toprope_pct</th>\n",
       "      <th>route_pct</th>\n",
       "      <th>years_climbing</th>\n",
       "      <th>years_to_max</th>\n",
       "    </tr>\n",
       "    <tr>\n",
       "      <th>user_id</th>\n",
       "      <th></th>\n",
       "      <th></th>\n",
       "      <th></th>\n",
       "      <th></th>\n",
       "      <th></th>\n",
       "      <th></th>\n",
       "      <th></th>\n",
       "      <th></th>\n",
       "      <th></th>\n",
       "      <th></th>\n",
       "      <th></th>\n",
       "      <th></th>\n",
       "      <th></th>\n",
       "      <th></th>\n",
       "      <th></th>\n",
       "      <th></th>\n",
       "      <th></th>\n",
       "      <th></th>\n",
       "    </tr>\n",
       "  </thead>\n",
       "  <tbody>\n",
       "    <tr>\n",
       "      <th>1</th>\n",
       "      <td>177</td>\n",
       "      <td>73</td>\n",
       "      <td>0</td>\n",
       "      <td>23.301095</td>\n",
       "      <td>1996</td>\n",
       "      <td>0</td>\n",
       "      <td>0</td>\n",
       "      <td>210</td>\n",
       "      <td>62</td>\n",
       "      <td>44.433333</td>\n",
       "      <td>2001</td>\n",
       "      <td>0.728571</td>\n",
       "      <td>0.009524</td>\n",
       "      <td>0.257143</td>\n",
       "      <td>0.004762</td>\n",
       "      <td>0.290476</td>\n",
       "      <td>9</td>\n",
       "      <td>5</td>\n",
       "    </tr>\n",
       "    <tr>\n",
       "      <th>3</th>\n",
       "      <td>180</td>\n",
       "      <td>78</td>\n",
       "      <td>0</td>\n",
       "      <td>24.074074</td>\n",
       "      <td>1995</td>\n",
       "      <td>0</td>\n",
       "      <td>0</td>\n",
       "      <td>61</td>\n",
       "      <td>62</td>\n",
       "      <td>51.819672</td>\n",
       "      <td>1999</td>\n",
       "      <td>0.950820</td>\n",
       "      <td>0.049180</td>\n",
       "      <td>0.000000</td>\n",
       "      <td>0.000000</td>\n",
       "      <td>0.196721</td>\n",
       "      <td>6</td>\n",
       "      <td>4</td>\n",
       "    </tr>\n",
       "    <tr>\n",
       "      <th>4</th>\n",
       "      <td>165</td>\n",
       "      <td>58</td>\n",
       "      <td>1</td>\n",
       "      <td>21.303949</td>\n",
       "      <td>2001</td>\n",
       "      <td>0</td>\n",
       "      <td>0</td>\n",
       "      <td>180</td>\n",
       "      <td>64</td>\n",
       "      <td>53.038889</td>\n",
       "      <td>2008</td>\n",
       "      <td>0.527778</td>\n",
       "      <td>0.127778</td>\n",
       "      <td>0.338889</td>\n",
       "      <td>0.005556</td>\n",
       "      <td>0.050000</td>\n",
       "      <td>8</td>\n",
       "      <td>7</td>\n",
       "    </tr>\n",
       "    <tr>\n",
       "      <th>6</th>\n",
       "      <td>185</td>\n",
       "      <td>73</td>\n",
       "      <td>0</td>\n",
       "      <td>21.329438</td>\n",
       "      <td>1992</td>\n",
       "      <td>0</td>\n",
       "      <td>0</td>\n",
       "      <td>31</td>\n",
       "      <td>64</td>\n",
       "      <td>58.193548</td>\n",
       "      <td>2001</td>\n",
       "      <td>0.935484</td>\n",
       "      <td>0.064516</td>\n",
       "      <td>0.000000</td>\n",
       "      <td>0.000000</td>\n",
       "      <td>1.000000</td>\n",
       "      <td>9</td>\n",
       "      <td>9</td>\n",
       "    </tr>\n",
       "    <tr>\n",
       "      <th>10</th>\n",
       "      <td>167</td>\n",
       "      <td>63</td>\n",
       "      <td>0</td>\n",
       "      <td>22.589551</td>\n",
       "      <td>1992</td>\n",
       "      <td>0</td>\n",
       "      <td>0</td>\n",
       "      <td>727</td>\n",
       "      <td>64</td>\n",
       "      <td>48.215956</td>\n",
       "      <td>2000</td>\n",
       "      <td>0.599725</td>\n",
       "      <td>0.020633</td>\n",
       "      <td>0.302613</td>\n",
       "      <td>0.077029</td>\n",
       "      <td>0.114168</td>\n",
       "      <td>25</td>\n",
       "      <td>8</td>\n",
       "    </tr>\n",
       "  </tbody>\n",
       "</table>\n",
       "</div>"
      ],
      "text/plain": [
       "         height  weight  sex        BMI  started  miss_bd  physicals_invalid  \\\n",
       "user_id                                                                        \n",
       "1           177      73    0  23.301095     1996        0                  0   \n",
       "3           180      78    0  24.074074     1995        0                  0   \n",
       "4           165      58    1  21.303949     2001        0                  0   \n",
       "6           185      73    0  21.329438     1992        0                  0   \n",
       "10          167      63    0  22.589551     1992        0                  0   \n",
       "\n",
       "         counter_sum  grade_id_max  grade_id_mean  year_max_grade  \\\n",
       "user_id                                                             \n",
       "1                210            62      44.433333            2001   \n",
       "3                 61            62      51.819672            1999   \n",
       "4                180            64      53.038889            2008   \n",
       "6                 31            64      58.193548            2001   \n",
       "10               727            64      48.215956            2000   \n",
       "\n",
       "         redpoint_pct  flash_pct  onsite_pct  toprope_pct  route_pct  \\\n",
       "user_id                                                                \n",
       "1            0.728571   0.009524    0.257143     0.004762   0.290476   \n",
       "3            0.950820   0.049180    0.000000     0.000000   0.196721   \n",
       "4            0.527778   0.127778    0.338889     0.005556   0.050000   \n",
       "6            0.935484   0.064516    0.000000     0.000000   1.000000   \n",
       "10           0.599725   0.020633    0.302613     0.077029   0.114168   \n",
       "\n",
       "         years_climbing  years_to_max  \n",
       "user_id                                \n",
       "1                     9             5  \n",
       "3                     6             4  \n",
       "4                     8             7  \n",
       "6                     9             9  \n",
       "10                   25             8  "
      ]
     },
     "execution_count": 131,
     "metadata": {},
     "output_type": "execute_result"
    }
   ],
   "source": [
    "# # Show final data \n",
    "by_person.head()"
   ]
  },
  {
   "cell_type": "markdown",
   "metadata": {
    "slideshow": {
     "slide_type": "skip"
    }
   },
   "source": [
    "# Analysis and Model Selection\n",
    "\n",
    "Let's look at the distribution of maximum climbing grade by person (our y of interest):"
   ]
  },
  {
   "cell_type": "code",
   "execution_count": 155,
   "metadata": {
    "slideshow": {
     "slide_type": "slide"
    }
   },
   "outputs": [
    {
     "data": {
      "text/plain": [
       "<matplotlib.axes._subplots.AxesSubplot at 0x1a31749690>"
      ]
     },
     "execution_count": 155,
     "metadata": {},
     "output_type": "execute_result"
    },
    {
     "data": {
      "image/png": "[encoded data removed]",
      "text/plain": [
       "<matplotlib.figure.Figure at 0x1a31768bd0>"
      ]
     },
     "metadata": {},
     "output_type": "display_data"
    }
   ],
   "source": [
    "# Plot maximum climbing grade by climber\n",
    "fig, ax = plt.subplots()\n",
    "fig.set_size_inches(12, 5)\n",
    "sns.distplot(by_person.grade_id_max)"
   ]
  },
  {
   "cell_type": "markdown",
   "metadata": {
    "slideshow": {
     "slide_type": "skip"
    }
   },
   "source": [
    "Looks fairly normal! The most frequent highest grade seems to be 8a (hence the website name!), which is actually a pretty crazy grade. It also shows the selection bias of the underlying sample, as those who are actually logging their climbs on this website are inherently experienced climbers.\n",
    "\n",
    "Let's look at the relationship between maximum grade and our physical features:"
   ]
  },
  {
   "cell_type": "code",
   "execution_count": 186,
   "metadata": {
    "slideshow": {
     "slide_type": "slide"
    }
   },
   "outputs": [
    {
     "data": {
      "text/plain": [
       "<seaborn.axisgrid.PairGrid at 0x1a43b7a950>"
      ]
     },
     "execution_count": 186,
     "metadata": {},
     "output_type": "execute_result"
    },
    {
     "data": {
      "image/png": "[encoded data removed]",
      "text/plain": [
       "<matplotlib.figure.Figure at 0x1a43b7a750>"
      ]
     },
     "metadata": {},
     "output_type": "display_data"
    }
   ],
   "source": [
    "# Scatter plot for relationship between max grade and physical features\n",
    "\n",
    "by_person_phy = by_person[[\"sex\", \"height\", \"weight\", \"BMI\", \"grade_id_max\"]][by_person.physicals_invalid==0]\n",
    "sns.pairplot(data= by_person_phy, hue=\"sex\", x_vars=[\"sex\",\"height\",\"weight\", \"BMI\"], y_vars=[\"grade_id_max\"], size=5, aspect=.8)"
   ]
  },
  {
   "cell_type": "markdown",
   "metadata": {
    "slideshow": {
     "slide_type": "skip"
    }
   },
   "source": [
    "Looks like there's essentially no meaningful relationship between physical traits and maximum grade. Climbers of either sex and at all levels of height, weight, and BMI combinations are seen climbing at all grades in fairly similar numbers.\n",
    "\n",
    "This is both great and bad news. Great news in the sense that it shows that anyone, regardless of gender or physical composition, can send (climbing lingo for \"complete a route\") at the highest grades! Bad news in the sense that they will make pretty weak features in any sort of predictive model....\n",
    "\n",
    "Let's do it anyway! We'll only include sex and BMI, as BMI provides a useful interaction between height and weight (and would likely lead to multicolinearity issues)"
   ]
  },
  {
   "cell_type": "code",
   "execution_count": 134,
   "metadata": {
    "slideshow": {
     "slide_type": "skip"
    }
   },
   "outputs": [],
   "source": [
    "from sklearn import datasets\n",
    "from sklearn.metrics import mean_absolute_error, mean_squared_error,r2_score\n",
    "from sklearn.linear_model import LinearRegression, Lasso, Ridge\n",
    "from sklearn.model_selection import train_test_split, cross_val_score\n",
    "from sklearn.cross_validation import KFold"
   ]
  },
  {
   "cell_type": "code",
   "execution_count": 219,
   "metadata": {
    "slideshow": {
     "slide_type": "skip"
    }
   },
   "outputs": [
    {
     "name": "stdout",
     "output_type": "stream",
     "text": [
      "('R2', 'MSE')\n"
     ]
    },
    {
     "data": {
      "text/plain": [
       "[(0.013406168301722921, 9.3454024919118694),\n",
       " (0.074868961636495257, 8.9796883133771992),\n",
       " (0.072153941559218948, 9.2855302290754),\n",
       " (0.056649040247338966, 9.3553527846581765),\n",
       " (0.070434285793411155, 9.158552922799073)]"
      ]
     },
     "execution_count": 219,
     "metadata": {},
     "output_type": "execute_result"
    }
   ],
   "source": [
    "# Get features and y of interest\n",
    "features = [\"sex\", \"BMI\"]\n",
    "X = by_person_phy[features]\n",
    "y = by_person_phy[\"grade_id_max\"]\n",
    "\n",
    "# Train-test-split\n",
    "X_train, X_test, y_train, y_test = train_test_split(X, y, random_state=1)\n",
    "\n",
    "# fit simple linear regressionmodel to the data\n",
    "lr = LinearRegression()\n",
    "lr.fit(X_train, y_train)\n",
    "\n",
    "# Show R2 and MSE\n",
    "r2 = cross_val_score(lr, X_test, y=y_test, cv=5, scoring=\"r2\")\n",
    "mse = cross_val_score(lr, X_test, y=y_test, cv=5, scoring=\"neg_mean_squared_error\")\n",
    "mse = np.sqrt(mse * -1)\n",
    "print(\"R2\", \"MSE\")\n",
    "list(zip(r2,mse))"
   ]
  },
  {
   "cell_type": "markdown",
   "metadata": {
    "slideshow": {
     "slide_type": "skip"
    }
   },
   "source": [
    "Yeah, these models aren't looking great. Let's look at correlations and see what has more predictive value:"
   ]
  },
  {
   "cell_type": "code",
   "execution_count": 136,
   "metadata": {
    "slideshow": {
     "slide_type": "slide"
    }
   },
   "outputs": [
    {
     "data": {
      "text/plain": [
       "grade_id_max         1.000000\n",
       "grade_id_mean        0.864434\n",
       "years_climbing       0.473426\n",
       "years_to_max         0.411705\n",
       "counter_sum          0.403902\n",
       "redpoint_pct         0.333965\n",
       "route_pct            0.108208\n",
       "year_max_grade       0.072163\n",
       "physicals_invalid    0.024257\n",
       "BMI                 -0.009016\n",
       "sex                 -0.018412\n",
       "height              -0.023484\n",
       "weight              -0.060186\n",
       "flash_pct           -0.104553\n",
       "onsite_pct          -0.128343\n",
       "started             -0.295927\n",
       "toprope_pct         -0.341944\n",
       "miss_bd                   NaN\n",
       "Name: grade_id_max, dtype: float64"
      ]
     },
     "execution_count": 136,
     "metadata": {},
     "output_type": "execute_result"
    }
   ],
   "source": [
    "# Correlations between max grade and all features\n",
    "\n",
    "corr = by_person[by_person.miss_bd==0].corr()\n",
    "corr.grade_id_max.sort_values(ascending=False)"
   ]
  },
  {
   "cell_type": "markdown",
   "metadata": {
    "slideshow": {
     "slide_type": "skip"
    }
   },
   "source": [
    "Looks like some of the most correlated features to max grade are mean climbing grade (grade_id_mean), number of years of climbing experience (years_climbing), total number of climbs logged (counter_sum), number of years to get to one's max grade (years_to_max), and the percentage of total climbs that were redpointed (redpoint_pct). \n",
    "\n",
    "All of these features are most closely related to the amount of experience/number of climbs a climber has. This is....not too surprising, and a straightforward linear relationship (more experience = more likely to climb a higher grade)."
   ]
  },
  {
   "cell_type": "code",
   "execution_count": 175,
   "metadata": {
    "slideshow": {
     "slide_type": "subslide"
    }
   },
   "outputs": [
    {
     "data": {
      "text/plain": [
       "<matplotlib.axes._subplots.AxesSubplot at 0x1a3759d490>"
      ]
     },
     "execution_count": 175,
     "metadata": {},
     "output_type": "execute_result"
    },
    {
     "data": {
      "image/png": "[encoded data removed]",
      "text/plain": [
       "<matplotlib.figure.Figure at 0x1a375b2690>"
      ]
     },
     "metadata": {},
     "output_type": "display_data"
    }
   ],
   "source": [
    "# Plot the average number of years it takes to get to each grade\n",
    "\n",
    "fig, ax = plt.subplots()\n",
    "fig.set_size_inches(12, 5)\n",
    "time_to_max = by_person[[\"years_to_max\", \"grade_id_max\"]].groupby(\"grade_id_max\", as_index=False).mean()\n",
    "sns.pointplot(x=time_to_max.grade_id_max, y=time_to_max.years_to_max)"
   ]
  },
  {
   "cell_type": "markdown",
   "metadata": {
    "slideshow": {
     "slide_type": "skip"
    }
   },
   "source": [
    "We can see from the above graph plotting the average number of years it takes to reach each grade that there's an almost scarily linear relationship between years of experience and max grade (the weird blips at the beginning and end are due to a relative lack of data for these grades). By this, it makes sense for us to use a linear regression model for predictive purposes."
   ]
  },
  {
   "cell_type": "markdown",
   "metadata": {
    "slideshow": {
     "slide_type": "skip"
    }
   },
   "source": [
    "### Model building:"
   ]
  },
  {
   "cell_type": "code",
   "execution_count": 282,
   "metadata": {
    "slideshow": {
     "slide_type": "skip"
    }
   },
   "outputs": [
    {
     "name": "stdout",
     "output_type": "stream",
     "text": [
      "('R2', 'MSE')\n"
     ]
    },
    {
     "data": {
      "text/plain": [
       "[(0.82683983054276466, 4.1361480030213427),\n",
       " (0.82935341739422519, 4.0792094647269517),\n",
       " (0.8269711544504279, 4.0312733135170387),\n",
       " (0.82969221530948323, 4.0796070390828518),\n",
       " (0.80971512139026025, 4.1407820803345041)]"
      ]
     },
     "execution_count": 282,
     "metadata": {},
     "output_type": "execute_result"
    }
   ],
   "source": [
    "# Get iteration of the dataset where everyone has a birthday, so time-related features can be used\n",
    "by_person_new = by_person[by_person.miss_bd==0]\n",
    "\n",
    "from sklearn.model_selection import train_test_split\n",
    "training_data,holdout = train_test_split(by_person_new,shuffle=True,test_size=0.10,random_state=123)\n",
    "\n",
    "#Get features and y of interest\n",
    "features = [\"grade_id_mean\", \"years_climbing\", \"counter_sum\", \"years_to_max\", \"redpoint_pct\"]\n",
    "X = training_data[features]\n",
    "y = training_data[\"grade_id_max\"]\n",
    "\n",
    "# Train-test-split\n",
    "X_train, X_test, y_train, y_test = train_test_split(X, y, random_state=1)\n",
    "\n",
    "# fit simple linear regressionmodel to the data\n",
    "lr = LinearRegression()\n",
    "lr.fit(X_train, y_train)\n",
    "\n",
    "# Show R2 and MSE\n",
    "r2 = cross_val_score(lr, X_test, y=y_test, cv=5, scoring=\"r2\")\n",
    "mse = cross_val_score(lr, X_test, y=y_test, cv=5, scoring=\"neg_mean_squared_error\")\n",
    "\n",
    "print(\"R2\", \"MSE\")\n",
    "mse = np.sqrt(mse * -1)\n",
    "list(zip(r2,mse))"
   ]
  },
  {
   "cell_type": "code",
   "execution_count": 283,
   "metadata": {
    "slideshow": {
     "slide_type": "skip"
    }
   },
   "outputs": [
    {
     "data": {
      "text/plain": [
       "[('grade_id_mean', 0.94643026957970511),\n",
       " ('years_climbing', 0.17107993085852966),\n",
       " ('counter_sum', 0.0085263860228661781),\n",
       " ('years_to_max', -0.078398000199034562),\n",
       " ('redpoint_pct', -1.8190974257955632)]"
      ]
     },
     "execution_count": 283,
     "metadata": {},
     "output_type": "execute_result"
    }
   ],
   "source": [
    "# Print Coefficients\n",
    "list(zip(features,lr.coef_))"
   ]
  },
  {
   "cell_type": "markdown",
   "metadata": {
    "slideshow": {
     "slide_type": "skip"
    }
   },
   "source": [
    "Our metrics are looking alright, with an RMSE of ~4 grades. Let's see if a Lasso will push out any coefficients."
   ]
  },
  {
   "cell_type": "code",
   "execution_count": 284,
   "metadata": {
    "slideshow": {
     "slide_type": "skip"
    }
   },
   "outputs": [
    {
     "data": {
      "text/plain": [
       "[('grade_id_mean', 0.90999895851513002),\n",
       " ('years_climbing', 0.10274514762051552),\n",
       " ('counter_sum', 0.0090774035210398011),\n",
       " ('years_to_max', 0.0),\n",
       " ('redpoint_pct', -0.0)]"
      ]
     },
     "execution_count": 284,
     "metadata": {},
     "output_type": "execute_result"
    }
   ],
   "source": [
    "# Fit Lasso\n",
    "lr = Lasso(alpha=.5)\n",
    "lr.fit(X_train, y_train)\n",
    "\n",
    "list(zip(features,lr.coef_))"
   ]
  },
  {
   "cell_type": "markdown",
   "metadata": {
    "slideshow": {
     "slide_type": "skip"
    }
   },
   "source": [
    "It looks like the strongest variables are mean climbing grade (this makes sense) as well as number of years climbing. \n",
    "\n",
    "Redpoint_pct and years_to_max get pushed out with a relatively low alpha on our Lasso. Let's take these out and check out our model."
   ]
  },
  {
   "cell_type": "code",
   "execution_count": 288,
   "metadata": {
    "slideshow": {
     "slide_type": "skip"
    }
   },
   "outputs": [
    {
     "name": "stdout",
     "output_type": "stream",
     "text": [
      "('R2', 'MSE')\n"
     ]
    },
    {
     "data": {
      "text/plain": [
       "[(0.82699823776931813, 4.1342556924283329),\n",
       " (0.82837240883917351, 4.0909178872473539),\n",
       " (0.82604051877343021, 4.0420998774920447),\n",
       " (0.82788978811379688, 4.1011381793131463),\n",
       " (0.80741070626413702, 4.1657797708483342)]"
      ]
     },
     "execution_count": 288,
     "metadata": {},
     "output_type": "execute_result"
    }
   ],
   "source": [
    "#Get features and y of interest\n",
    "features = [\"grade_id_mean\", \"years_climbing\", \"counter_sum\"]\n",
    "X = training_data[features]\n",
    "y = training_data[\"grade_id_max\"]\n",
    "\n",
    "# Train-test-split\n",
    "X_train, X_test, y_train, y_test = train_test_split(X, y, random_state=1)\n",
    "\n",
    "# fit simple linear regressionmodel to the data\n",
    "lr = LinearRegression()\n",
    "lr.fit(X_train, y_train)\n",
    "\n",
    "# Show R2 and MSE\n",
    "r2 = cross_val_score(lr, X_test, y=y_test, cv=5, scoring=\"r2\")\n",
    "mse = cross_val_score(lr, X_test, y=y_test, cv=5, scoring=\"neg_mean_squared_error\")\n",
    "\n",
    "print(\"R2\", \"MSE\")\n",
    "mse = np.sqrt(mse * -1)\n",
    "list(zip(r2,mse))"
   ]
  },
  {
   "cell_type": "markdown",
   "metadata": {
    "slideshow": {
     "slide_type": "skip"
    }
   },
   "source": [
    "These perform slighly worse than the earlier regresions, but there really isn't much change between the iterations above. This is likely because almost all regressors are derived from number of years/number of times someone has climbed (i.e., general climbing experience). Let's test against the holdout:"
   ]
  },
  {
   "cell_type": "code",
   "execution_count": 289,
   "metadata": {
    "slideshow": {
     "slide_type": "skip"
    }
   },
   "outputs": [
    {
     "name": "stdout",
     "output_type": "stream",
     "text": [
      "RMSE: 4.08253671512\n",
      "R2: 0.821262968085\n"
     ]
    }
   ],
   "source": [
    "features = [\"grade_id_mean\", \"years_climbing\", \"counter_sum\", \"years_to_max\", \"redpoint_pct\"]\n",
    "\n",
    "X_train = training_data[features]\n",
    "y_train = training_data[\"grade_id_max\"]\n",
    "\n",
    "x_holdout = holdout[features]\n",
    "y_holdout = holdout[\"grade_id_max\"]\n",
    "\n",
    "\n",
    "#Instantiate and train linear model\n",
    "lr = LinearRegression()\n",
    "lr.fit(X_train, y_train)\n",
    "\n",
    "# Create predictions using holdout set (x_holdout)\n",
    "holdout_preds = lr.predict(x_holdout)\n",
    "\n",
    "#Scores\n",
    "RMSE_score = np.sqrt(mean_squared_error(y_holdout, holdout_preds))\n",
    "R2_score = r2_score(y_holdout, holdout_preds)\n",
    "                     \n",
    "                     \n",
    "#Print Scores\n",
    "print \"RMSE:\", np.mean(RMSE_score)\n",
    "print \"R2:\", np.mean(R2_score)"
   ]
  },
  {
   "cell_type": "code",
   "execution_count": 292,
   "metadata": {
    "slideshow": {
     "slide_type": "slide"
    }
   },
   "outputs": [
    {
     "data": {
      "text/plain": [
       "<matplotlib.text.Text at 0x1a44b6eb50>"
      ]
     },
     "execution_count": 292,
     "metadata": {},
     "output_type": "execute_result"
    },
    {
     "data": {
      "image/png": "[encoded data removed]",
      "text/plain": [
       "<matplotlib.figure.Figure at 0x1a2c319790>"
      ]
     },
     "metadata": {},
     "output_type": "display_data"
    }
   ],
   "source": [
    "#Regplot predictions vs observed  \n",
    "fig, ax = plt.subplots()\n",
    "fig.set_size_inches(12, 5)\n",
    "plot = sns.regplot(y_holdout, holdout_preds)\n",
    "plot.set_xlabel(\"Observed\")\n",
    "plot.set_ylabel(\"Estimated\")"
   ]
  },
  {
   "cell_type": "markdown",
   "metadata": {
    "slideshow": {
     "slide_type": "skip"
    }
   },
   "source": [
    "This is pretty much a visual example of why we square mean squared errors. It looks like the residuals are pretty evenly distributed, with our predictions skewing on the higher side when it comes to higher grades."
   ]
  },
  {
   "cell_type": "code",
   "execution_count": 291,
   "metadata": {
    "slideshow": {
     "slide_type": "skip"
    }
   },
   "outputs": [
    {
     "data": {
      "text/plain": [
       "<matplotlib.axes._subplots.AxesSubplot at 0x1a47597a10>"
      ]
     },
     "execution_count": 291,
     "metadata": {},
     "output_type": "execute_result"
    },
    {
     "data": {
      "image/png": "[encoded data removed]",
      "text/plain": [
       "<matplotlib.figure.Figure at 0x1a474d8550>"
      ]
     },
     "metadata": {},
     "output_type": "display_data"
    }
   ],
   "source": [
    "#Residual distribution\n",
    "residuals = [est - obs for est, obs in zip(holdout_preds, y_holdout)]\n",
    "sns.distplot(residuals)"
   ]
  },
  {
   "cell_type": "markdown",
   "metadata": {
    "slideshow": {
     "slide_type": "skip"
    }
   },
   "source": [
    "# Conclusions and Future Work"
   ]
  },
  {
   "cell_type": "markdown",
   "metadata": {
    "slideshow": {
     "slide_type": "skip"
    }
   },
   "source": [
    "It's sort of a no-brainer that increased climbing experience will have a somewhat linear relationship with one's maximum climbing grade, and it's unfortunate that physical features carry much weight to allow for a potentially more interesting model. Still, it was interesting to verify with analytics that nothing physical should hold climbers back from reaching higher grades. I found this project was mostly a good exercise in data validation/cleaning/building, as much of the user-input information wasn't usable on first pass.\n",
    "\n",
    "Future work would include potentially making this a classification problem, classifying grades as either easy, medium, or hard, and checking the predictive properties. Again, this may not be too interesting because of the data available (as well as the subjectivity of these classifications), but would allow for more complex predictive models. It would also be interesting to step away from prediction and move toward creating a sort of route recommendation engine, where the model would suggest climbs based on geography and profiles of similar climbers."
   ]
  }
 ],
 "metadata": {
  "celltoolbar": "Slideshow",
  "kernelspec": {
   "display_name": "Python 2",
   "language": "python",
   "name": "python2"
  },
  "language_info": {
   "codemirror_mode": {
    "name": "ipython",
    "version": 2
   },
   "file_extension": ".py",
   "mimetype": "text/x-python",
   "name": "python",
   "nbconvert_exporter": "python",
   "pygments_lexer": "ipython2",
   "version": "2.7.13"
  }
 },
 "nbformat": 4,
 "nbformat_minor": 2
}
